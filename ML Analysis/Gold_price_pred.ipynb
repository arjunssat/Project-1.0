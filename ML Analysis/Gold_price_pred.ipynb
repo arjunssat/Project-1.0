{
 "cells": [
  {
   "cell_type": "code",
   "execution_count": 497,
   "id": "31c0c937",
   "metadata": {},
   "outputs": [
    {
     "data": {
      "text/html": [
       "<div>\n",
       "<style scoped>\n",
       "    .dataframe tbody tr th:only-of-type {\n",
       "        vertical-align: middle;\n",
       "    }\n",
       "\n",
       "    .dataframe tbody tr th {\n",
       "        vertical-align: top;\n",
       "    }\n",
       "\n",
       "    .dataframe thead th {\n",
       "        text-align: right;\n",
       "    }\n",
       "</style>\n",
       "<table border=\"1\" class=\"dataframe\">\n",
       "  <thead>\n",
       "    <tr style=\"text-align: right;\">\n",
       "      <th></th>\n",
       "      <th>Date</th>\n",
       "      <th>SPX</th>\n",
       "      <th>GLD</th>\n",
       "      <th>USO</th>\n",
       "      <th>SLV</th>\n",
       "      <th>EUR/USD</th>\n",
       "    </tr>\n",
       "  </thead>\n",
       "  <tbody>\n",
       "    <tr>\n",
       "      <th>0</th>\n",
       "      <td>1/2/2008</td>\n",
       "      <td>1447.160034</td>\n",
       "      <td>84.860001</td>\n",
       "      <td>78.470001</td>\n",
       "      <td>15.180</td>\n",
       "      <td>1.471692</td>\n",
       "    </tr>\n",
       "    <tr>\n",
       "      <th>1</th>\n",
       "      <td>1/3/2008</td>\n",
       "      <td>1447.160034</td>\n",
       "      <td>85.570000</td>\n",
       "      <td>78.370003</td>\n",
       "      <td>15.285</td>\n",
       "      <td>1.474491</td>\n",
       "    </tr>\n",
       "    <tr>\n",
       "      <th>2</th>\n",
       "      <td>1/4/2008</td>\n",
       "      <td>1411.630005</td>\n",
       "      <td>85.129997</td>\n",
       "      <td>77.309998</td>\n",
       "      <td>15.167</td>\n",
       "      <td>1.475492</td>\n",
       "    </tr>\n",
       "    <tr>\n",
       "      <th>3</th>\n",
       "      <td>1/7/2008</td>\n",
       "      <td>1416.180054</td>\n",
       "      <td>84.769997</td>\n",
       "      <td>75.500000</td>\n",
       "      <td>15.053</td>\n",
       "      <td>1.468299</td>\n",
       "    </tr>\n",
       "    <tr>\n",
       "      <th>4</th>\n",
       "      <td>1/8/2008</td>\n",
       "      <td>1390.189941</td>\n",
       "      <td>86.779999</td>\n",
       "      <td>76.059998</td>\n",
       "      <td>15.590</td>\n",
       "      <td>1.557099</td>\n",
       "    </tr>\n",
       "  </tbody>\n",
       "</table>\n",
       "</div>"
      ],
      "text/plain": [
       "       Date          SPX        GLD        USO     SLV   EUR/USD\n",
       "0  1/2/2008  1447.160034  84.860001  78.470001  15.180  1.471692\n",
       "1  1/3/2008  1447.160034  85.570000  78.370003  15.285  1.474491\n",
       "2  1/4/2008  1411.630005  85.129997  77.309998  15.167  1.475492\n",
       "3  1/7/2008  1416.180054  84.769997  75.500000  15.053  1.468299\n",
       "4  1/8/2008  1390.189941  86.779999  76.059998  15.590  1.557099"
      ]
     },
     "execution_count": 497,
     "metadata": {},
     "output_type": "execute_result"
    }
   ],
   "source": [
    "import numpy as np\n",
    "import pandas as pd\n",
    "import matplotlib.pyplot as plt\n",
    "import plotly.express as px\n",
    "import seaborn as sns\n",
    "import warnings\n",
    "warnings.filterwarnings('ignore')\n",
    "df=pd.read_csv(\"D:\\Data Analysis\\Gold price\\gld_price_data.csv\")\n",
    "pd.set_option('display.max_columns',None)\n",
    "df.head()"
   ]
  },
  {
   "cell_type": "code",
   "execution_count": 498,
   "id": "601c9a1b",
   "metadata": {},
   "outputs": [
    {
     "data": {
      "text/plain": [
       "(2290, 6)"
      ]
     },
     "execution_count": 498,
     "metadata": {},
     "output_type": "execute_result"
    }
   ],
   "source": [
    "df.shape"
   ]
  },
  {
   "cell_type": "code",
   "execution_count": 499,
   "id": "2c63a6b9",
   "metadata": {},
   "outputs": [
    {
     "data": {
      "text/plain": [
       "13740"
      ]
     },
     "execution_count": 499,
     "metadata": {},
     "output_type": "execute_result"
    }
   ],
   "source": [
    "df.size"
   ]
  },
  {
   "cell_type": "code",
   "execution_count": 500,
   "id": "1be68e68",
   "metadata": {},
   "outputs": [
    {
     "data": {
      "text/plain": [
       "Date        object\n",
       "SPX        float64\n",
       "GLD        float64\n",
       "USO        float64\n",
       "SLV        float64\n",
       "EUR/USD    float64\n",
       "dtype: object"
      ]
     },
     "execution_count": 500,
     "metadata": {},
     "output_type": "execute_result"
    }
   ],
   "source": [
    "df.dtypes"
   ]
  },
  {
   "cell_type": "code",
   "execution_count": 501,
   "id": "b083905e",
   "metadata": {},
   "outputs": [],
   "source": [
    "df['Date']=pd.to_datetime(df['Date'])"
   ]
  },
  {
   "cell_type": "code",
   "execution_count": 502,
   "id": "484e4e1b",
   "metadata": {},
   "outputs": [
    {
     "data": {
      "text/plain": [
       "Date       datetime64[ns]\n",
       "SPX               float64\n",
       "GLD               float64\n",
       "USO               float64\n",
       "SLV               float64\n",
       "EUR/USD           float64\n",
       "dtype: object"
      ]
     },
     "execution_count": 502,
     "metadata": {},
     "output_type": "execute_result"
    }
   ],
   "source": [
    "df.dtypes"
   ]
  },
  {
   "cell_type": "code",
   "execution_count": 503,
   "id": "3f2904a8",
   "metadata": {},
   "outputs": [
    {
     "data": {
      "text/html": [
       "<div>\n",
       "<style scoped>\n",
       "    .dataframe tbody tr th:only-of-type {\n",
       "        vertical-align: middle;\n",
       "    }\n",
       "\n",
       "    .dataframe tbody tr th {\n",
       "        vertical-align: top;\n",
       "    }\n",
       "\n",
       "    .dataframe thead th {\n",
       "        text-align: right;\n",
       "    }\n",
       "</style>\n",
       "<table border=\"1\" class=\"dataframe\">\n",
       "  <thead>\n",
       "    <tr style=\"text-align: right;\">\n",
       "      <th></th>\n",
       "      <th>SPX</th>\n",
       "      <th>GLD</th>\n",
       "      <th>USO</th>\n",
       "      <th>SLV</th>\n",
       "      <th>EUR/USD</th>\n",
       "    </tr>\n",
       "  </thead>\n",
       "  <tbody>\n",
       "    <tr>\n",
       "      <th>count</th>\n",
       "      <td>2290.000000</td>\n",
       "      <td>2290.000000</td>\n",
       "      <td>2290.000000</td>\n",
       "      <td>2290.000000</td>\n",
       "      <td>2290.000000</td>\n",
       "    </tr>\n",
       "    <tr>\n",
       "      <th>mean</th>\n",
       "      <td>1654.315776</td>\n",
       "      <td>122.732875</td>\n",
       "      <td>31.842221</td>\n",
       "      <td>20.084997</td>\n",
       "      <td>1.283653</td>\n",
       "    </tr>\n",
       "    <tr>\n",
       "      <th>std</th>\n",
       "      <td>519.111540</td>\n",
       "      <td>23.283346</td>\n",
       "      <td>19.523517</td>\n",
       "      <td>7.092566</td>\n",
       "      <td>0.131547</td>\n",
       "    </tr>\n",
       "    <tr>\n",
       "      <th>min</th>\n",
       "      <td>676.530029</td>\n",
       "      <td>70.000000</td>\n",
       "      <td>7.960000</td>\n",
       "      <td>8.850000</td>\n",
       "      <td>1.039047</td>\n",
       "    </tr>\n",
       "    <tr>\n",
       "      <th>25%</th>\n",
       "      <td>1239.874969</td>\n",
       "      <td>109.725000</td>\n",
       "      <td>14.380000</td>\n",
       "      <td>15.570000</td>\n",
       "      <td>1.171313</td>\n",
       "    </tr>\n",
       "    <tr>\n",
       "      <th>50%</th>\n",
       "      <td>1551.434998</td>\n",
       "      <td>120.580002</td>\n",
       "      <td>33.869999</td>\n",
       "      <td>17.268500</td>\n",
       "      <td>1.303297</td>\n",
       "    </tr>\n",
       "    <tr>\n",
       "      <th>75%</th>\n",
       "      <td>2073.010070</td>\n",
       "      <td>132.840004</td>\n",
       "      <td>37.827501</td>\n",
       "      <td>22.882500</td>\n",
       "      <td>1.369971</td>\n",
       "    </tr>\n",
       "    <tr>\n",
       "      <th>max</th>\n",
       "      <td>2872.870117</td>\n",
       "      <td>184.589996</td>\n",
       "      <td>117.480003</td>\n",
       "      <td>47.259998</td>\n",
       "      <td>1.598798</td>\n",
       "    </tr>\n",
       "  </tbody>\n",
       "</table>\n",
       "</div>"
      ],
      "text/plain": [
       "               SPX          GLD          USO          SLV      EUR/USD\n",
       "count  2290.000000  2290.000000  2290.000000  2290.000000  2290.000000\n",
       "mean   1654.315776   122.732875    31.842221    20.084997     1.283653\n",
       "std     519.111540    23.283346    19.523517     7.092566     0.131547\n",
       "min     676.530029    70.000000     7.960000     8.850000     1.039047\n",
       "25%    1239.874969   109.725000    14.380000    15.570000     1.171313\n",
       "50%    1551.434998   120.580002    33.869999    17.268500     1.303297\n",
       "75%    2073.010070   132.840004    37.827501    22.882500     1.369971\n",
       "max    2872.870117   184.589996   117.480003    47.259998     1.598798"
      ]
     },
     "execution_count": 503,
     "metadata": {},
     "output_type": "execute_result"
    }
   ],
   "source": [
    "df.describe()"
   ]
  },
  {
   "cell_type": "code",
   "execution_count": 504,
   "id": "1dbcea49",
   "metadata": {},
   "outputs": [
    {
     "data": {
      "text/plain": [
       "Date       0\n",
       "SPX        0\n",
       "GLD        0\n",
       "USO        0\n",
       "SLV        0\n",
       "EUR/USD    0\n",
       "dtype: int64"
      ]
     },
     "execution_count": 504,
     "metadata": {},
     "output_type": "execute_result"
    }
   ],
   "source": [
    "df.isnull().sum()"
   ]
  },
  {
   "cell_type": "code",
   "execution_count": 505,
   "id": "6a0b42c9",
   "metadata": {},
   "outputs": [
    {
     "data": {
      "text/plain": [
       "Index(['Date', 'SPX', 'GLD', 'USO', 'SLV', 'EUR/USD'], dtype='object')"
      ]
     },
     "execution_count": 505,
     "metadata": {},
     "output_type": "execute_result"
    }
   ],
   "source": [
    "df.columns"
   ]
  },
  {
   "cell_type": "code",
   "execution_count": 506,
   "id": "60ed7fee",
   "metadata": {},
   "outputs": [
    {
     "data": {
      "text/html": [
       "<div>\n",
       "<style scoped>\n",
       "    .dataframe tbody tr th:only-of-type {\n",
       "        vertical-align: middle;\n",
       "    }\n",
       "\n",
       "    .dataframe tbody tr th {\n",
       "        vertical-align: top;\n",
       "    }\n",
       "\n",
       "    .dataframe thead th {\n",
       "        text-align: right;\n",
       "    }\n",
       "</style>\n",
       "<table border=\"1\" class=\"dataframe\">\n",
       "  <thead>\n",
       "    <tr style=\"text-align: right;\">\n",
       "      <th></th>\n",
       "      <th>Date</th>\n",
       "      <th>SPX</th>\n",
       "      <th>GLD</th>\n",
       "      <th>USO</th>\n",
       "      <th>SLV</th>\n",
       "      <th>EUR/USD</th>\n",
       "    </tr>\n",
       "  </thead>\n",
       "  <tbody>\n",
       "    <tr>\n",
       "      <th>0</th>\n",
       "      <td>2008-01-02</td>\n",
       "      <td>1447.160034</td>\n",
       "      <td>84.860001</td>\n",
       "      <td>78.470001</td>\n",
       "      <td>15.180</td>\n",
       "      <td>1.471692</td>\n",
       "    </tr>\n",
       "    <tr>\n",
       "      <th>1</th>\n",
       "      <td>2008-01-03</td>\n",
       "      <td>1447.160034</td>\n",
       "      <td>85.570000</td>\n",
       "      <td>78.370003</td>\n",
       "      <td>15.285</td>\n",
       "      <td>1.474491</td>\n",
       "    </tr>\n",
       "    <tr>\n",
       "      <th>2</th>\n",
       "      <td>2008-01-04</td>\n",
       "      <td>1411.630005</td>\n",
       "      <td>85.129997</td>\n",
       "      <td>77.309998</td>\n",
       "      <td>15.167</td>\n",
       "      <td>1.475492</td>\n",
       "    </tr>\n",
       "    <tr>\n",
       "      <th>3</th>\n",
       "      <td>2008-01-07</td>\n",
       "      <td>1416.180054</td>\n",
       "      <td>84.769997</td>\n",
       "      <td>75.500000</td>\n",
       "      <td>15.053</td>\n",
       "      <td>1.468299</td>\n",
       "    </tr>\n",
       "    <tr>\n",
       "      <th>4</th>\n",
       "      <td>2008-01-08</td>\n",
       "      <td>1390.189941</td>\n",
       "      <td>86.779999</td>\n",
       "      <td>76.059998</td>\n",
       "      <td>15.590</td>\n",
       "      <td>1.557099</td>\n",
       "    </tr>\n",
       "  </tbody>\n",
       "</table>\n",
       "</div>"
      ],
      "text/plain": [
       "        Date          SPX        GLD        USO     SLV   EUR/USD\n",
       "0 2008-01-02  1447.160034  84.860001  78.470001  15.180  1.471692\n",
       "1 2008-01-03  1447.160034  85.570000  78.370003  15.285  1.474491\n",
       "2 2008-01-04  1411.630005  85.129997  77.309998  15.167  1.475492\n",
       "3 2008-01-07  1416.180054  84.769997  75.500000  15.053  1.468299\n",
       "4 2008-01-08  1390.189941  86.779999  76.059998  15.590  1.557099"
      ]
     },
     "execution_count": 506,
     "metadata": {},
     "output_type": "execute_result"
    }
   ],
   "source": [
    "df.head()"
   ]
  },
  {
   "cell_type": "code",
   "execution_count": 507,
   "id": "fe28a76b",
   "metadata": {},
   "outputs": [
    {
     "data": {
      "text/html": [
       "<div>\n",
       "<style scoped>\n",
       "    .dataframe tbody tr th:only-of-type {\n",
       "        vertical-align: middle;\n",
       "    }\n",
       "\n",
       "    .dataframe tbody tr th {\n",
       "        vertical-align: top;\n",
       "    }\n",
       "\n",
       "    .dataframe thead th {\n",
       "        text-align: right;\n",
       "    }\n",
       "</style>\n",
       "<table border=\"1\" class=\"dataframe\">\n",
       "  <thead>\n",
       "    <tr style=\"text-align: right;\">\n",
       "      <th></th>\n",
       "      <th>Date</th>\n",
       "      <th>SPX</th>\n",
       "      <th>GLD</th>\n",
       "      <th>USO</th>\n",
       "      <th>SLV</th>\n",
       "      <th>EUR/USD</th>\n",
       "    </tr>\n",
       "  </thead>\n",
       "  <tbody>\n",
       "    <tr>\n",
       "      <th>2285</th>\n",
       "      <td>2018-05-08</td>\n",
       "      <td>2671.919922</td>\n",
       "      <td>124.589996</td>\n",
       "      <td>14.0600</td>\n",
       "      <td>15.5100</td>\n",
       "      <td>1.186789</td>\n",
       "    </tr>\n",
       "    <tr>\n",
       "      <th>2286</th>\n",
       "      <td>2018-05-09</td>\n",
       "      <td>2697.790039</td>\n",
       "      <td>124.330002</td>\n",
       "      <td>14.3700</td>\n",
       "      <td>15.5300</td>\n",
       "      <td>1.184722</td>\n",
       "    </tr>\n",
       "    <tr>\n",
       "      <th>2287</th>\n",
       "      <td>2018-05-10</td>\n",
       "      <td>2723.070068</td>\n",
       "      <td>125.180000</td>\n",
       "      <td>14.4100</td>\n",
       "      <td>15.7400</td>\n",
       "      <td>1.191753</td>\n",
       "    </tr>\n",
       "    <tr>\n",
       "      <th>2288</th>\n",
       "      <td>2018-05-14</td>\n",
       "      <td>2730.129883</td>\n",
       "      <td>124.489998</td>\n",
       "      <td>14.3800</td>\n",
       "      <td>15.5600</td>\n",
       "      <td>1.193118</td>\n",
       "    </tr>\n",
       "    <tr>\n",
       "      <th>2289</th>\n",
       "      <td>2018-05-16</td>\n",
       "      <td>2725.780029</td>\n",
       "      <td>122.543800</td>\n",
       "      <td>14.4058</td>\n",
       "      <td>15.4542</td>\n",
       "      <td>1.182033</td>\n",
       "    </tr>\n",
       "  </tbody>\n",
       "</table>\n",
       "</div>"
      ],
      "text/plain": [
       "           Date          SPX         GLD      USO      SLV   EUR/USD\n",
       "2285 2018-05-08  2671.919922  124.589996  14.0600  15.5100  1.186789\n",
       "2286 2018-05-09  2697.790039  124.330002  14.3700  15.5300  1.184722\n",
       "2287 2018-05-10  2723.070068  125.180000  14.4100  15.7400  1.191753\n",
       "2288 2018-05-14  2730.129883  124.489998  14.3800  15.5600  1.193118\n",
       "2289 2018-05-16  2725.780029  122.543800  14.4058  15.4542  1.182033"
      ]
     },
     "execution_count": 507,
     "metadata": {},
     "output_type": "execute_result"
    }
   ],
   "source": [
    "df.tail()"
   ]
  },
  {
   "cell_type": "code",
   "execution_count": 508,
   "id": "e1f8737b",
   "metadata": {},
   "outputs": [
    {
     "data": {
      "text/plain": [
       "<AxesSubplot:>"
      ]
     },
     "execution_count": 508,
     "metadata": {},
     "output_type": "execute_result"
    },
    {
     "data": {
      "image/png": "[encoded data removed]",
      "text/plain": [
       "<Figure size 640x480 with 2 Axes>"
      ]
     },
     "metadata": {},
     "output_type": "display_data"
    }
   ],
   "source": [
    "sns.heatmap(data=df.corr(),annot=True)"
   ]
  },
  {
   "cell_type": "code",
   "execution_count": 509,
   "id": "9fcc8a51",
   "metadata": {},
   "outputs": [
    {
     "data": {
      "text/html": [
       "<div>\n",
       "<style scoped>\n",
       "    .dataframe tbody tr th:only-of-type {\n",
       "        vertical-align: middle;\n",
       "    }\n",
       "\n",
       "    .dataframe tbody tr th {\n",
       "        vertical-align: top;\n",
       "    }\n",
       "\n",
       "    .dataframe thead th {\n",
       "        text-align: right;\n",
       "    }\n",
       "</style>\n",
       "<table border=\"1\" class=\"dataframe\">\n",
       "  <thead>\n",
       "    <tr style=\"text-align: right;\">\n",
       "      <th></th>\n",
       "      <th>SPX</th>\n",
       "      <th>GLD</th>\n",
       "      <th>USO</th>\n",
       "      <th>SLV</th>\n",
       "      <th>EUR/USD</th>\n",
       "    </tr>\n",
       "  </thead>\n",
       "  <tbody>\n",
       "    <tr>\n",
       "      <th>SPX</th>\n",
       "      <td>1.000000</td>\n",
       "      <td>0.049345</td>\n",
       "      <td>-0.591573</td>\n",
       "      <td>-0.274055</td>\n",
       "      <td>-0.672017</td>\n",
       "    </tr>\n",
       "    <tr>\n",
       "      <th>GLD</th>\n",
       "      <td>0.049345</td>\n",
       "      <td>1.000000</td>\n",
       "      <td>-0.186360</td>\n",
       "      <td>0.866632</td>\n",
       "      <td>-0.024375</td>\n",
       "    </tr>\n",
       "    <tr>\n",
       "      <th>USO</th>\n",
       "      <td>-0.591573</td>\n",
       "      <td>-0.186360</td>\n",
       "      <td>1.000000</td>\n",
       "      <td>0.167547</td>\n",
       "      <td>0.829317</td>\n",
       "    </tr>\n",
       "    <tr>\n",
       "      <th>SLV</th>\n",
       "      <td>-0.274055</td>\n",
       "      <td>0.866632</td>\n",
       "      <td>0.167547</td>\n",
       "      <td>1.000000</td>\n",
       "      <td>0.321631</td>\n",
       "    </tr>\n",
       "    <tr>\n",
       "      <th>EUR/USD</th>\n",
       "      <td>-0.672017</td>\n",
       "      <td>-0.024375</td>\n",
       "      <td>0.829317</td>\n",
       "      <td>0.321631</td>\n",
       "      <td>1.000000</td>\n",
       "    </tr>\n",
       "  </tbody>\n",
       "</table>\n",
       "</div>"
      ],
      "text/plain": [
       "              SPX       GLD       USO       SLV   EUR/USD\n",
       "SPX      1.000000  0.049345 -0.591573 -0.274055 -0.672017\n",
       "GLD      0.049345  1.000000 -0.186360  0.866632 -0.024375\n",
       "USO     -0.591573 -0.186360  1.000000  0.167547  0.829317\n",
       "SLV     -0.274055  0.866632  0.167547  1.000000  0.321631\n",
       "EUR/USD -0.672017 -0.024375  0.829317  0.321631  1.000000"
      ]
     },
     "execution_count": 509,
     "metadata": {},
     "output_type": "execute_result"
    }
   ],
   "source": [
    "df.corr()"
   ]
  },
  {
   "cell_type": "code",
   "execution_count": 510,
   "id": "3f45eece",
   "metadata": {},
   "outputs": [
    {
     "name": "stdout",
     "output_type": "stream",
     "text": [
      "SPX        0.049345\n",
      "GLD        1.000000\n",
      "USO       -0.186360\n",
      "SLV        0.866632\n",
      "EUR/USD   -0.024375\n",
      "Name: GLD, dtype: float64\n"
     ]
    }
   ],
   "source": [
    "print(df.corr()['GLD'])"
   ]
  },
  {
   "cell_type": "code",
   "execution_count": 511,
   "id": "2429ae70",
   "metadata": {},
   "outputs": [
    {
     "name": "stdout",
     "output_type": "stream",
     "text": [
      "Date features has 2290 unique values\n",
      "SPX features has 2277 unique values\n",
      "GLD features has 1930 unique values\n",
      "USO features has 1514 unique values\n",
      "SLV features has 1331 unique values\n",
      "EUR/USD features has 2066 unique values\n"
     ]
    }
   ],
   "source": [
    "for features in df.columns:\n",
    "    print('{} features has {} unique values'.format(features,df[features].nunique()))"
   ]
  },
  {
   "cell_type": "code",
   "execution_count": 512,
   "id": "4ca1a8ef",
   "metadata": {},
   "outputs": [
    {
     "data": {
      "text/plain": [
       "<AxesSubplot:xlabel='GLD', ylabel='Density'>"
      ]
     },
     "execution_count": 512,
     "metadata": {},
     "output_type": "execute_result"
    },
    {
     "data": {
      "image/png": "[encoded data removed]",
      "text/plain": [
       "<Figure size 640x480 with 1 Axes>"
      ]
     },
     "metadata": {},
     "output_type": "display_data"
    }
   ],
   "source": [
    "sns.distplot(df.GLD,color='green')"
   ]
  },
  {
   "cell_type": "code",
   "execution_count": 513,
   "id": "64b2a446",
   "metadata": {},
   "outputs": [
    {
     "data": {
      "text/html": [
       "<div>\n",
       "<style scoped>\n",
       "    .dataframe tbody tr th:only-of-type {\n",
       "        vertical-align: middle;\n",
       "    }\n",
       "\n",
       "    .dataframe tbody tr th {\n",
       "        vertical-align: top;\n",
       "    }\n",
       "\n",
       "    .dataframe thead th {\n",
       "        text-align: right;\n",
       "    }\n",
       "</style>\n",
       "<table border=\"1\" class=\"dataframe\">\n",
       "  <thead>\n",
       "    <tr style=\"text-align: right;\">\n",
       "      <th></th>\n",
       "      <th>SPX</th>\n",
       "      <th>USO</th>\n",
       "      <th>SLV</th>\n",
       "      <th>EUR/USD</th>\n",
       "    </tr>\n",
       "  </thead>\n",
       "  <tbody>\n",
       "    <tr>\n",
       "      <th>0</th>\n",
       "      <td>1447.160034</td>\n",
       "      <td>78.470001</td>\n",
       "      <td>15.1800</td>\n",
       "      <td>1.471692</td>\n",
       "    </tr>\n",
       "    <tr>\n",
       "      <th>1</th>\n",
       "      <td>1447.160034</td>\n",
       "      <td>78.370003</td>\n",
       "      <td>15.2850</td>\n",
       "      <td>1.474491</td>\n",
       "    </tr>\n",
       "    <tr>\n",
       "      <th>2</th>\n",
       "      <td>1411.630005</td>\n",
       "      <td>77.309998</td>\n",
       "      <td>15.1670</td>\n",
       "      <td>1.475492</td>\n",
       "    </tr>\n",
       "    <tr>\n",
       "      <th>3</th>\n",
       "      <td>1416.180054</td>\n",
       "      <td>75.500000</td>\n",
       "      <td>15.0530</td>\n",
       "      <td>1.468299</td>\n",
       "    </tr>\n",
       "    <tr>\n",
       "      <th>4</th>\n",
       "      <td>1390.189941</td>\n",
       "      <td>76.059998</td>\n",
       "      <td>15.5900</td>\n",
       "      <td>1.557099</td>\n",
       "    </tr>\n",
       "    <tr>\n",
       "      <th>...</th>\n",
       "      <td>...</td>\n",
       "      <td>...</td>\n",
       "      <td>...</td>\n",
       "      <td>...</td>\n",
       "    </tr>\n",
       "    <tr>\n",
       "      <th>2285</th>\n",
       "      <td>2671.919922</td>\n",
       "      <td>14.060000</td>\n",
       "      <td>15.5100</td>\n",
       "      <td>1.186789</td>\n",
       "    </tr>\n",
       "    <tr>\n",
       "      <th>2286</th>\n",
       "      <td>2697.790039</td>\n",
       "      <td>14.370000</td>\n",
       "      <td>15.5300</td>\n",
       "      <td>1.184722</td>\n",
       "    </tr>\n",
       "    <tr>\n",
       "      <th>2287</th>\n",
       "      <td>2723.070068</td>\n",
       "      <td>14.410000</td>\n",
       "      <td>15.7400</td>\n",
       "      <td>1.191753</td>\n",
       "    </tr>\n",
       "    <tr>\n",
       "      <th>2288</th>\n",
       "      <td>2730.129883</td>\n",
       "      <td>14.380000</td>\n",
       "      <td>15.5600</td>\n",
       "      <td>1.193118</td>\n",
       "    </tr>\n",
       "    <tr>\n",
       "      <th>2289</th>\n",
       "      <td>2725.780029</td>\n",
       "      <td>14.405800</td>\n",
       "      <td>15.4542</td>\n",
       "      <td>1.182033</td>\n",
       "    </tr>\n",
       "  </tbody>\n",
       "</table>\n",
       "<p>2290 rows × 4 columns</p>\n",
       "</div>"
      ],
      "text/plain": [
       "              SPX        USO      SLV   EUR/USD\n",
       "0     1447.160034  78.470001  15.1800  1.471692\n",
       "1     1447.160034  78.370003  15.2850  1.474491\n",
       "2     1411.630005  77.309998  15.1670  1.475492\n",
       "3     1416.180054  75.500000  15.0530  1.468299\n",
       "4     1390.189941  76.059998  15.5900  1.557099\n",
       "...           ...        ...      ...       ...\n",
       "2285  2671.919922  14.060000  15.5100  1.186789\n",
       "2286  2697.790039  14.370000  15.5300  1.184722\n",
       "2287  2723.070068  14.410000  15.7400  1.191753\n",
       "2288  2730.129883  14.380000  15.5600  1.193118\n",
       "2289  2725.780029  14.405800  15.4542  1.182033\n",
       "\n",
       "[2290 rows x 4 columns]"
      ]
     },
     "execution_count": 513,
     "metadata": {},
     "output_type": "execute_result"
    }
   ],
   "source": [
    "k=df.drop(['Date','GLD'],axis=1)\n",
    "m=df['GLD']\n",
    "k"
   ]
  },
  {
   "cell_type": "code",
   "execution_count": 514,
   "id": "f66f7f26",
   "metadata": {},
   "outputs": [
    {
     "data": {
      "text/plain": [
       "0        84.860001\n",
       "1        85.570000\n",
       "2        85.129997\n",
       "3        84.769997\n",
       "4        86.779999\n",
       "           ...    \n",
       "2285    124.589996\n",
       "2286    124.330002\n",
       "2287    125.180000\n",
       "2288    124.489998\n",
       "2289    122.543800\n",
       "Name: GLD, Length: 2290, dtype: float64"
      ]
     },
     "execution_count": 514,
     "metadata": {},
     "output_type": "execute_result"
    }
   ],
   "source": [
    "m"
   ]
  },
  {
   "cell_type": "code",
   "execution_count": 515,
   "id": "d9217569",
   "metadata": {},
   "outputs": [
    {
     "data": {
      "text/html": [
       "<div>\n",
       "<style scoped>\n",
       "    .dataframe tbody tr th:only-of-type {\n",
       "        vertical-align: middle;\n",
       "    }\n",
       "\n",
       "    .dataframe tbody tr th {\n",
       "        vertical-align: top;\n",
       "    }\n",
       "\n",
       "    .dataframe thead th {\n",
       "        text-align: right;\n",
       "    }\n",
       "</style>\n",
       "<table border=\"1\" class=\"dataframe\">\n",
       "  <thead>\n",
       "    <tr style=\"text-align: right;\">\n",
       "      <th></th>\n",
       "      <th>SPX</th>\n",
       "      <th>USO</th>\n",
       "      <th>SLV</th>\n",
       "      <th>EUR/USD</th>\n",
       "    </tr>\n",
       "  </thead>\n",
       "  <tbody>\n",
       "    <tr>\n",
       "      <th>0</th>\n",
       "      <td>1447.160034</td>\n",
       "      <td>78.470001</td>\n",
       "      <td>15.180</td>\n",
       "      <td>1.471692</td>\n",
       "    </tr>\n",
       "    <tr>\n",
       "      <th>1</th>\n",
       "      <td>1447.160034</td>\n",
       "      <td>78.370003</td>\n",
       "      <td>15.285</td>\n",
       "      <td>1.474491</td>\n",
       "    </tr>\n",
       "    <tr>\n",
       "      <th>2</th>\n",
       "      <td>1411.630005</td>\n",
       "      <td>77.309998</td>\n",
       "      <td>15.167</td>\n",
       "      <td>1.475492</td>\n",
       "    </tr>\n",
       "    <tr>\n",
       "      <th>3</th>\n",
       "      <td>1416.180054</td>\n",
       "      <td>75.500000</td>\n",
       "      <td>15.053</td>\n",
       "      <td>1.468299</td>\n",
       "    </tr>\n",
       "    <tr>\n",
       "      <th>4</th>\n",
       "      <td>1390.189941</td>\n",
       "      <td>76.059998</td>\n",
       "      <td>15.590</td>\n",
       "      <td>1.557099</td>\n",
       "    </tr>\n",
       "  </tbody>\n",
       "</table>\n",
       "</div>"
      ],
      "text/plain": [
       "           SPX        USO     SLV   EUR/USD\n",
       "0  1447.160034  78.470001  15.180  1.471692\n",
       "1  1447.160034  78.370003  15.285  1.474491\n",
       "2  1411.630005  77.309998  15.167  1.475492\n",
       "3  1416.180054  75.500000  15.053  1.468299\n",
       "4  1390.189941  76.059998  15.590  1.557099"
      ]
     },
     "execution_count": 515,
     "metadata": {},
     "output_type": "execute_result"
    }
   ],
   "source": [
    "k.head()"
   ]
  },
  {
   "cell_type": "code",
   "execution_count": 516,
   "id": "6a0db409",
   "metadata": {},
   "outputs": [
    {
     "data": {
      "text/plain": [
       "0    84.860001\n",
       "1    85.570000\n",
       "2    85.129997\n",
       "3    84.769997\n",
       "4    86.779999\n",
       "Name: GLD, dtype: float64"
      ]
     },
     "execution_count": 516,
     "metadata": {},
     "output_type": "execute_result"
    }
   ],
   "source": [
    "m.head()"
   ]
  },
  {
   "cell_type": "markdown",
   "id": "d1c33526",
   "metadata": {},
   "source": [
    "# Implemeting Training and Testing"
   ]
  },
  {
   "cell_type": "code",
   "execution_count": 517,
   "id": "21c4b9f4",
   "metadata": {},
   "outputs": [
    {
     "data": {
      "text/plain": [
       "array([[1.44716003e+03, 7.84700010e+01, 1.51800000e+01, 1.47169200e+00],\n",
       "       [1.44716003e+03, 7.83700030e+01, 1.52850000e+01, 1.47449100e+00],\n",
       "       [1.41163000e+03, 7.73099980e+01, 1.51670000e+01, 1.47549200e+00],\n",
       "       ...,\n",
       "       [2.72307007e+03, 1.44100000e+01, 1.57400000e+01, 1.19175300e+00],\n",
       "       [2.73012988e+03, 1.43800000e+01, 1.55600000e+01, 1.19311800e+00],\n",
       "       [2.72578003e+03, 1.44058000e+01, 1.54542000e+01, 1.18203300e+00]])"
      ]
     },
     "execution_count": 517,
     "metadata": {},
     "output_type": "execute_result"
    }
   ],
   "source": [
    "x=k.iloc[:,:].values\n",
    "x"
   ]
  },
  {
   "cell_type": "code",
   "execution_count": 518,
   "id": "211d0413",
   "metadata": {},
   "outputs": [
    {
     "data": {
      "text/plain": [
       "array([ 84,  85,  85, ..., 125, 124, 122])"
      ]
     },
     "execution_count": 518,
     "metadata": {},
     "output_type": "execute_result"
    }
   ],
   "source": [
    "y=m.iloc[:,].values.astype('int')\n",
    "y"
   ]
  },
  {
   "cell_type": "code",
   "execution_count": 519,
   "id": "d2afdd95",
   "metadata": {},
   "outputs": [
    {
     "data": {
      "text/plain": [
       "array([[2.64805005e+03, 1.38000000e+01, 1.53800000e+01, 1.20812300e+00],\n",
       "       [2.04596997e+03, 1.33500000e+01, 1.36400000e+01, 1.07629900e+00],\n",
       "       [1.10234998e+03, 3.57300000e+01, 1.70900000e+01, 1.47294900e+00],\n",
       "       ...,\n",
       "       [1.46242004e+03, 3.38200000e+01, 2.99200000e+01, 1.31978400e+00],\n",
       "       [8.27159973e+02, 2.69100000e+01, 1.29800000e+01, 1.29140600e+00],\n",
       "       [1.37751001e+03, 3.12999990e+01, 3.13799990e+01, 1.27599800e+00]])"
      ]
     },
     "execution_count": 519,
     "metadata": {},
     "output_type": "execute_result"
    }
   ],
   "source": [
    "from sklearn.model_selection import train_test_split\n",
    "x_train,x_test,y_train,y_test=train_test_split(x,y,test_size=0.20,random_state=1)\n",
    "x_train"
   ]
  },
  {
   "cell_type": "code",
   "execution_count": 520,
   "id": "0007e350",
   "metadata": {},
   "outputs": [
    {
     "data": {
      "text/plain": [
       "array([[ 1.89799481, -0.9162265 , -0.65044128, -0.56820195],\n",
       "       [ 0.74485541, -0.93898837, -0.89559865, -1.56823867],\n",
       "       [-1.06242144,  0.19303503, -0.40951076,  1.44080797],\n",
       "       ...,\n",
       "       [-0.37279394,  0.09642356,  1.39817262,  0.27887521],\n",
       "       [-1.58948161, -0.25309752, -0.98858938,  0.06359543],\n",
       "       [-0.53541866, -0.03104293,  1.60387923, -0.05329198]])"
      ]
     },
     "execution_count": 520,
     "metadata": {},
     "output_type": "execute_result"
    }
   ],
   "source": [
    "from sklearn.preprocessing import StandardScaler\n",
    "scaler=StandardScaler()\n",
    "x_train=scaler.fit_transform(x_train)\n",
    "x_test=scaler.transform(x_test)\n",
    "x_train"
   ]
  },
  {
   "cell_type": "code",
   "execution_count": 521,
   "id": "f1f77d00",
   "metadata": {},
   "outputs": [
    {
     "data": {
      "text/plain": [
       "array([[ 1.14895593, -1.02649509, -0.53631616, -1.73178091],\n",
       "       [-0.12199084,  0.07821402,  0.94449072,  0.21584189],\n",
       "       [-0.63173712,  0.36804843,  1.84762794,  0.68590254],\n",
       "       ...,\n",
       "       [ 0.20118997,  0.18393023,  0.23719748,  0.73969593],\n",
       "       [-0.47558598, -0.0143509 ,  1.50947956,  0.10233031],\n",
       "       [ 0.7089443 , -1.09933306, -0.72229775, -1.30574269]])"
      ]
     },
     "execution_count": 521,
     "metadata": {},
     "output_type": "execute_result"
    }
   ],
   "source": [
    "x_test"
   ]
  },
  {
   "cell_type": "code",
   "execution_count": 522,
   "id": "58381c6a",
   "metadata": {},
   "outputs": [
    {
     "data": {
      "text/plain": [
       "array([112.6 , 147.85, 142.29, 112.38, 113.16,  95.22, 111.38,  93.04,\n",
       "       120.52, 126.67, 147.2 , 119.91, 118.61,  87.56,  95.31,  92.26,\n",
       "       116.23,  88.69, 125.1 , 114.41, 118.71, 152.07, 121.97, 119.07,\n",
       "       170.63, 107.72, 119.75,  86.86,  86.97,  87.83, 120.72, 154.02,\n",
       "       149.9 , 125.45, 126.62,  90.52, 156.88, 120.79, 106.25, 143.29,\n",
       "        92.24, 127.14, 116.86, 152.35, 118.78,  90.91,  79.88, 119.86,\n",
       "       131.87, 118.71, 126.69, 165.39, 152.34,  92.22, 148.66, 151.45,\n",
       "       112.49, 112.67,  86.61, 127.16, 124.72, 151.37, 113.98, 110.13,\n",
       "       160.72, 116.67, 107.98, 131.16, 131.88, 124.87, 116.57, 150.08,\n",
       "       155.6 , 168.43, 109.66, 140.34, 101.74, 114.27, 119.22, 123.4 ,\n",
       "       117.18,  91.8 , 140.21, 106.6 , 124.65,  92.02, 132.8 , 124.9 ,\n",
       "       124.85, 125.39, 112.81, 119.74, 160.92,  79.87, 117.36, 114.75,\n",
       "       134.67, 108.56, 107.87, 125.61, 126.71, 109.53, 159.74, 122.35,\n",
       "       120.42, 128.15, 146.92,  91.92, 123.95, 118.81, 108.38, 134.44,\n",
       "       120.51,  97.5 , 115.31, 109.3 , 125.75, 113.34, 106.53, 172.77,\n",
       "        95.73, 125.87, 111.74, 111.98, 124.24, 167.75, 113.81, 134.62,\n",
       "       125.02, 163.54, 119.96,  88.8 , 127.16, 127.11, 114.74, 122.19,\n",
       "       125.65, 167.15, 111.92, 119.28, 125.59, 126.34, 167.15, 159.54,\n",
       "       170.61, 120.84, 121.12, 163.1 ,  97.94,  79.55, 115.77, 113.04,\n",
       "       118.52, 113.13, 119.87, 119.58, 103.91, 170.97, 143.35, 166.92,\n",
       "       117.08, 125.71, 125.5 , 166.27, 116.59, 132.3 , 137.21, 131.75,\n",
       "       112.52, 132.95, 153.49, 136.81,  95.64, 107.88, 123.9 , 152.11,\n",
       "        98.18, 131.61, 104.11, 120.99, 144.77, 109.13, 126.63, 126.36,\n",
       "       112.72, 139.29, 151.84, 164.81, 119.22, 104.24, 114.88, 113.13,\n",
       "       106.23, 123.67, 153.54, 128.56, 125.44, 147.39, 142.45,  82.79,\n",
       "       124.55, 125.26, 123.66, 105.64, 169.37, 175.49,  77.38, 119.08,\n",
       "        92.86, 117.76, 125.04, 117.14, 123.73, 152.31, 150.07,  90.98,\n",
       "       130.69, 108.2 , 110.04, 108.67, 168.37, 128.42, 102.26, 123.82,\n",
       "       111.29,  89.68, 144.9 , 120.43, 119.44, 103.78, 124.6 ,  93.83,\n",
       "       121.46, 115.61, 134.5 , 123.77, 170.24,  82.5 , 167.36, 124.3 ,\n",
       "       109.35, 125.48, 122.36,  82.62, 123.61, 113.14,  90.61, 113.23,\n",
       "       112.12, 170.1 , 106.73,  91.2 , 118.57, 108.83,  89.84,  75.25,\n",
       "       160.7 , 114.34, 141.  ,  95.9 , 120.25, 150.9 , 159.37, 113.17,\n",
       "       115.46, 152.11, 117.48, 150.28, 175.78,  87.27, 112.01, 152.84,\n",
       "       108.02, 158.18, 114.23, 136.84, 121.38, 115.67, 113.46,  85.95,\n",
       "        74.82, 131.57, 120.58, 118.43, 111.15, 153.63, 152.36, 122.45,\n",
       "       138.46, 152.31, 106.45,  91.38, 121.39, 154.64, 160.69, 155.88,\n",
       "        89.56, 136.01, 151.13, 108.29, 152.42,  84.3 , 115.7 , 119.18,\n",
       "       126.83, 151.24, 116.74, 127.34, 114.13, 102.66, 113.76,  94.88,\n",
       "       167.13, 151.59,  86.68, 127.61, 110.5 , 164.18, 121.3 , 106.88,\n",
       "       102.25, 114.87, 111.31,  75.46,  90.82, 121.65,  86.84, 112.1 ,\n",
       "       171.49, 164.82,  90.17, 138.57,  89.29, 117.68, 107.99, 124.81,\n",
       "       117.6 , 123.85, 106.91, 130.86, 114.07, 159.81, 107.9 , 116.  ,\n",
       "       152.7 , 146.99,  93.5 ,  90.69, 124.84,  87.7 , 113.5 , 114.68,\n",
       "       166.97, 120.14, 106.06, 159.79,  77.31, 123.83,  75.2 , 123.92,\n",
       "       158.61, 130.5 , 160.77, 120.1 , 105.08, 155.08, 125.01, 157.47,\n",
       "       139.87, 131.01, 132.24, 113.76, 113.68, 126.26, 128.9 , 162.19,\n",
       "        89.39, 168.48, 111.45, 118.5 , 134.83, 121.36, 162.83, 119.91,\n",
       "       114.02, 140.42, 131.62, 114.73, 119.65, 124.75, 124.58, 106.55,\n",
       "       103.65,  71.75, 158.8 , 149.54,  85.25, 158.19, 153.18, 121.55,\n",
       "       113.44, 120.91, 161.42, 130.88, 117.87, 155.  , 162.56, 124.06,\n",
       "       126.59, 125.  , 119.81, 151.78,  86.77, 102.57, 131.64, 163.16,\n",
       "       130.54,  88.06, 160.79, 115.62,  97.33, 126.32, 139.88, 121.9 ,\n",
       "       118.66, 110.83,  77.11, 121.49, 102.26, 159.98, 116.71, 125.89,\n",
       "       125.44,  93.16, 131.97, 156.24, 102.77,  93.05, 126.35,  92.65,\n",
       "       112.69, 125.41, 121.68, 107.6 , 118.49, 147.43, 148.13, 133.99,\n",
       "       167.59, 100.21, 117.61, 127.07, 114.24, 114.96, 100.7 , 128.98,\n",
       "       164.8 , 118.79])"
      ]
     },
     "execution_count": 522,
     "metadata": {},
     "output_type": "execute_result"
    }
   ],
   "source": [
    "from sklearn.ensemble import RandomForestRegressor\n",
    "regressor=RandomForestRegressor(n_estimators=100)\n",
    "regressor.fit(x_train,y_train)\n",
    "y_pred=regressor.predict(x_test)\n",
    "y_pred"
   ]
  },
  {
   "cell_type": "code",
   "execution_count": 523,
   "id": "6fad19e1",
   "metadata": {},
   "outputs": [
    {
     "name": "stdout",
     "output_type": "stream",
     "text": [
      "R-Squared error: 0.9878687415423003\n"
     ]
    }
   ],
   "source": [
    "from sklearn import metrics\n",
    "error_score=metrics.r2_score(y_test,y_pred)\n",
    "print('R-Squared error:',error_score)"
   ]
  },
  {
   "cell_type": "markdown",
   "id": "44f9f3b6",
   "metadata": {},
   "source": [
    "# Comparing actual and predicted values"
   ]
  },
  {
   "cell_type": "code",
   "execution_count": 524,
   "id": "fa0cbbd9",
   "metadata": {},
   "outputs": [
    {
     "name": "stdout",
     "output_type": "stream",
     "text": [
      "[110, 151, 137, 113, 114, 96, 110, 95, 121, 126, 146, 122, 116, 87, 95, 92, 115, 89, 124, 115, 120, 151, 122, 120, 171, 109, 119, 87, 88, 90, 121, 154, 151, 128, 126, 90, 167, 120, 105, 143, 92, 127, 116, 152, 118, 89, 76, 120, 131, 118, 128, 165, 155, 92, 147, 150, 114, 111, 87, 127, 124, 151, 113, 110, 161, 119, 107, 129, 131, 125, 115, 150, 155, 168, 110, 141, 102, 113, 119, 123, 118, 93, 140, 106, 124, 92, 131, 126, 127, 126, 113, 119, 161, 80, 118, 116, 134, 110, 108, 125, 126, 110, 161, 123, 121, 129, 147, 92, 124, 120, 107, 136, 120, 98, 116, 109, 126, 114, 105, 174, 97, 124, 112, 112, 125, 168, 115, 135, 125, 162, 120, 87, 128, 127, 111, 123, 126, 170, 114, 118, 125, 127, 167, 160, 170, 120, 121, 163, 98, 79, 115, 113, 117, 115, 122, 119, 104, 170, 145, 167, 115, 126, 125, 164, 117, 133, 133, 131, 113, 132, 155, 132, 96, 107, 125, 139, 97, 129, 99, 120, 135, 109, 128, 127, 114, 139, 152, 166, 119, 105, 118, 114, 106, 124, 153, 128, 128, 149, 139, 78, 125, 126, 124, 105, 172, 177, 75, 120, 93, 117, 125, 117, 122, 157, 147, 92, 131, 108, 111, 107, 169, 128, 102, 124, 109, 91, 147, 120, 120, 102, 126, 95, 120, 117, 133, 125, 169, 82, 167, 127, 110, 127, 122, 85, 122, 112, 89, 114, 113, 166, 109, 92, 118, 110, 91, 74, 160, 115, 142, 96, 120, 150, 159, 113, 116, 138, 117, 150, 177, 87, 110, 153, 107, 159, 110, 135, 122, 115, 115, 85, 75, 131, 120, 117, 110, 154, 173, 123, 157, 152, 106, 91, 122, 153, 163, 157, 90, 133, 153, 109, 152, 83, 116, 121, 128, 152, 116, 127, 113, 102, 113, 95, 167, 137, 87, 128, 111, 164, 122, 107, 102, 116, 110, 73, 90, 121, 86, 112, 171, 165, 91, 137, 89, 118, 108, 124, 117, 123, 107, 129, 113, 159, 108, 115, 156, 143, 94, 89, 124, 89, 114, 115, 168, 121, 106, 160, 76, 125, 71, 124, 159, 127, 161, 120, 109, 155, 124, 161, 139, 132, 134, 115, 115, 126, 129, 166, 88, 168, 109, 118, 137, 121, 162, 120, 115, 142, 130, 113, 118, 122, 124, 108, 104, 73, 161, 155, 84, 148, 153, 121, 114, 122, 162, 130, 118, 136, 160, 124, 128, 124, 120, 152, 86, 103, 133, 163, 131, 89, 161, 117, 97, 128, 138, 122, 118, 112, 80, 121, 102, 161, 117, 126, 123, 93, 132, 158, 102, 94, 127, 92, 114, 123, 123, 107, 119, 148, 146, 131, 170, 98, 118, 127, 115, 115, 98, 130, 164, 120]\n"
     ]
    }
   ],
   "source": [
    "y_test=list(y_test)\n",
    "print(y_test)"
   ]
  },
  {
   "cell_type": "code",
   "execution_count": 525,
   "id": "b7019df6",
   "metadata": {},
   "outputs": [
    {
     "data": {
      "text/plain": [
       "<function matplotlib.pyplot.show(close=None, block=None)>"
      ]
     },
     "execution_count": 525,
     "metadata": {},
     "output_type": "execute_result"
    },
    {
     "data": {
      "image/png": "[encoded data removed]",
      "text/plain": [
       "<Figure size 640x480 with 1 Axes>"
      ]
     },
     "metadata": {},
     "output_type": "display_data"
    }
   ],
   "source": [
    "plt.plot(y_test,color='blue',label='Actual values')\n",
    "plt.plot(y_pred,color='green',label='Predicted values')\n",
    "plt.title('Actual price vs Predicited price')\n",
    "plt.xlabel('No: of values')\n",
    "plt.ylabel('gold price')\n",
    "plt.legend()\n",
    "plt.show"
   ]
  },
  {
   "cell_type": "markdown",
   "id": "c9cef9a2",
   "metadata": {},
   "source": [
    "# The actual and predicted values are close!"
   ]
  }
 ],
 "metadata": {
  "kernelspec": {
   "display_name": "Python 3 (ipykernel)",
   "language": "python",
   "name": "python3"
  },
  "language_info": {
   "codemirror_mode": {
    "name": "ipython",
    "version": 3
   },
   "file_extension": ".py",
   "mimetype": "text/x-python",
   "name": "python",
   "nbconvert_exporter": "python",
   "pygments_lexer": "ipython3",
   "version": "3.9.13"
  }
 },
 "nbformat": 4,
 "nbformat_minor": 5
}
